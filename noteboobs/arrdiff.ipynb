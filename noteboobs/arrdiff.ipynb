{
 "cells": [
  {
   "cell_type": "code",
   "execution_count": 51,
   "id": "ca480352-b803-4419-90d0-b3d927d6622b",
   "metadata": {},
   "outputs": [],
   "source": [
    "# http://nostarch.com/thinklikeaprogrammer"
   ]
  },
  {
   "cell_type": "code",
   "execution_count": 64,
   "id": "eb7ac7d9-b839-4b94-ac9c-dcb2f3469efc",
   "metadata": {},
   "outputs": [],
   "source": [
    "size = 5 "
   ]
  },
  {
   "cell_type": "code",
   "execution_count": 65,
   "id": "5dbd5818-7db6-4179-a1c1-706d423e4391",
   "metadata": {},
   "outputs": [],
   "source": [
    "arr1 = [10,-5,13,19,33]\n",
    "arr2 = [10,-9,13,16,32]"
   ]
  },
  {
   "cell_type": "code",
   "execution_count": 66,
   "id": "7ef72ccf-f7dc-46e3-941e-36e97381d501",
   "metadata": {},
   "outputs": [],
   "source": [
    "def cal_diff(a1,a2,size) :\n",
    "    count = 0\n",
    "    if size == 0:\n",
    "        return\n",
    "    \n",
    "    for i in range (0,size):\n",
    "        count += abs(a1[i]-a2[i])\n",
    "    \n",
    "    return(count)"
   ]
  },
  {
   "cell_type": "code",
   "execution_count": 67,
   "id": "46dd4f26-c19a-4158-8a30-b0e67c2e3cd9",
   "metadata": {},
   "outputs": [
    {
     "name": "stdout",
     "output_type": "stream",
     "text": [
      "8\n"
     ]
    }
   ],
   "source": [
    "print(cal_diff(arr1,arr2,size))"
   ]
  }
 ],
 "metadata": {
  "kernelspec": {
   "display_name": "Python 3 (ipykernel)",
   "language": "python",
   "name": "python3"
  },
  "language_info": {
   "codemirror_mode": {
    "name": "ipython",
    "version": 3
   },
   "file_extension": ".py",
   "mimetype": "text/x-python",
   "name": "python",
   "nbconvert_exporter": "python",
   "pygments_lexer": "ipython3",
   "version": "3.10.12"
  }
 },
 "nbformat": 4,
 "nbformat_minor": 5
}
